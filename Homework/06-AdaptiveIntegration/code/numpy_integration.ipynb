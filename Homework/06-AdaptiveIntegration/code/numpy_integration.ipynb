{
 "cells": [
  {
   "cell_type": "code",
   "execution_count": null,
   "metadata": {},
   "outputs": [],
   "source": [
    "import scipy.integrate as integrate\n",
    "import numpy as np\n",
    "print(integrate.quad(lambda x: 1/np.sqrt(x), 0, 1, full_output=1, epsabs=1e-3, epsrel=1e-3)[2]['neval'])\n",
    "print(integrate.quad(lambda x: np.log(x)/np.sqrt(x), 0, 1, full_output=1, epsabs=1e-3, epsrel=1e-3)[2]['neval'])"
   ]
  }
 ],
 "metadata": {
  "kernelspec": {
   "display_name": "Python 3",
   "language": "python",
   "name": "python3"
  },
  "language_info": {
   "name": "python",
   "version": "3.10.6"
  },
  "orig_nbformat": 4
 },
 "nbformat": 4,
 "nbformat_minor": 2
}
